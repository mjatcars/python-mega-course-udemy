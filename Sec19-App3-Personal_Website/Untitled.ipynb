{
 "cells": [
  {
   "cell_type": "code",
   "execution_count": null,
   "metadata": {},
   "outputs": [],
   "source": [
    "\n",
    "from flask import Flask  #Import Flask object\n",
    "#localhost:5000\n",
    "\n",
    "app=Flask(__name__) #Instantiate Flask object\n",
    "\n",
    "@app.route('/')\n",
    "def home():\n",
    "    return \"website2 contents belongs here!\"\n",
    "\n",
    "@app.route('/about/')\n",
    "def about():\n",
    "    return \"about contents belongs here!\"\n",
    "\n",
    "if __name__==\"__main__\": #Assign name main to file\n",
    "    app.run(debug=True)\n"
   ]
  },
  {
   "cell_type": "code",
   "execution_count": null,
   "metadata": {},
   "outputs": [],
   "source": []
  },
  {
   "cell_type": "code",
   "execution_count": null,
   "metadata": {},
   "outputs": [],
   "source": []
  }
 ],
 "metadata": {
  "kernelspec": {
   "display_name": "Python 3",
   "language": "python",
   "name": "python3"
  },
  "language_info": {
   "codemirror_mode": {
    "name": "ipython",
    "version": 3
   },
   "file_extension": ".py",
   "mimetype": "text/x-python",
   "name": "python",
   "nbconvert_exporter": "python",
   "pygments_lexer": "ipython3",
   "version": "3.7.2"
  }
 },
 "nbformat": 4,
 "nbformat_minor": 2
}
