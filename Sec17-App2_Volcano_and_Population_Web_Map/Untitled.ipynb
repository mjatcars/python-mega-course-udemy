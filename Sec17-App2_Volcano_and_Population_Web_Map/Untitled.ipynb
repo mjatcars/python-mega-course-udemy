{
 "cells": [
  {
   "cell_type": "code",
   "execution_count": 49,
   "metadata": {},
   "outputs": [],
   "source": [
    "import folium\n",
    "import pandas\n",
    "import json\n",
    "valid_states = ['AK', 'AL', 'AR', 'AZ', 'CA', 'CO', 'CT', 'DE', 'FL',\n",
    "                'GA', 'HI', 'IA', 'ID', 'IL', 'IN', 'KS', 'KY', 'LA', 'MA', \n",
    "                'MD', 'ME', 'MI', 'MN', 'MO', 'MS', 'MT', 'NC', 'ND', \n",
    "                'NE', 'NH', 'NJ', 'NM', 'NV', 'NY', 'OH', 'OK', 'OR', 'PA', \n",
    "                'RI', 'SC', 'SD', 'TN', 'TX', 'UT', 'VA', 'VT', 'WA', \n",
    "                'WI', 'WV', 'WY']\n",
    "data = pandas.read_csv(\"https://covidtracking.com/api/v1/states/current.csv\")\n",
    "state= list(data[\"state\"])\n",
    "death= list(data[\"death\"])\n",
    "state_death = dict(zip(state,death))\n",
    "\n",
    "datag = pandas.read_csv(\"state_geo.csv\")\n",
    "stateg= list(datag[\"state\"])\n",
    "lat= list(datag[\"lat\"])\n",
    "long= list(datag[\"long\"])\n",
    "state_lat = dict(zip(stateg,lat))\n",
    "state_long = dict(zip(stateg,long))\n",
    "\n",
    "# Color volcano markers based on elevation\n",
    "def color_producer(det):\n",
    "    if det < 1000:\n",
    "        return 'green'\n",
    "    elif dt >1000 and det < 3000:\n",
    "        return 'orange'\n",
    "    else:\n",
    "        return 'red'\n",
    "\n",
    "# Color volcano markers based on elevation\n",
    "def circle_size(detb):\n",
    "    if detb < 1000:\n",
    "        return 4\n",
    "    else:\n",
    "        return detb*.002\n",
    "\n",
    "# Feature Group for covid layer\n",
    "data = pandas.read_csv(\"https://covidtracking.com/api/v1/us/daily.csv\")\n",
    "map = folium.Map(location=[41.857943, -87.633145], zoom_start=4)  #, tiles=\"Stamen Toner\")\n",
    "fgc = folium.FeatureGroup(name=\"covid\")\n",
    "for st,dt in state_death.items():\n",
    "    if st in valid_states:\n",
    "        fgc.add_child(folium.CircleMarker(radius= circle_size(dt),location=[state_lat[st], state_long[st]], popup=\"deaths \"+str(dt), fill_color=color_producer(dt), coloer='grey',fill_opacity=0.7))\n",
    "\n",
    "map.add_child(fgc)\n",
    "map.add_child(folium.LayerControl()) # This creates a control switching each layer on and off separately\n",
    "map.save(\"covid_map.html\")\n",
    "\n"
   ]
  },
  {
   "cell_type": "code",
   "execution_count": null,
   "metadata": {},
   "outputs": [],
   "source": []
  },
  {
   "cell_type": "code",
   "execution_count": 4,
   "metadata": {},
   "outputs": [
    {
     "name": "stdout",
     "output_type": "stream",
     "text": [
      "Original key list is : ['Rash', 'Kil', 'Varsha']\n",
      "Original value list is : [1, 4, 5]\n",
      "Resultant dictionary is : {'Rash': 1, 'Kil': 4, 'Varsha': 5}\n"
     ]
    }
   ],
   "source": [
    "test_keys = [\"Rash\", \"Kil\", \"Varsha\"] \n",
    "test_values = [1, 4, 5] \n",
    "  \n",
    "# Printing original keys-value lists \n",
    "print (\"Original key list is : \" + str(test_keys)) \n",
    "print (\"Original value list is : \" + str(test_values)) \n",
    "res = dict(zip(test_keys, test_values)) \n",
    "print (\"Resultant dictionary is : \" +  str(res)) "
   ]
  },
  {
   "cell_type": "code",
   "execution_count": 19,
   "metadata": {},
   "outputs": [
    {
     "name": "stdout",
     "output_type": "stream",
     "text": [
      "{'AK': 63.588753000000004, 'AL': 32.318231, 'AR': 35.20105, 'AZ': 34.048928000000004, 'CA': 36.778261, 'CO': 39.550051, 'CT': 41.603221000000005, 'DC': 38.905985, 'DE': 38.910832, 'FL': 27.664827000000002, 'GA': 32.157435, 'HI': 19.898682, 'IA': 41.878003, 'ID': 44.068202, 'IL': 40.633125, 'IN': 40.551217, 'KS': 39.011902, 'KY': 37.839333, 'LA': 31.244822999999997, 'MA': 42.407211, 'MD': 39.045755, 'ME': 45.253783, 'MI': 44.314844, 'MN': 46.729553, 'MO': 37.964253, 'MS': 32.354668, 'MT': 46.879682, 'NC': 35.759572999999996, 'ND': 47.551493, 'NE': 41.492537, 'NH': 43.193852, 'NJ': 40.058324, 'NM': 34.97273, 'NV': 38.802609999999994, 'NY': 43.299428000000006, 'OH': 40.417287, 'OK': 35.007752, 'OR': 43.804133, 'PA': 41.203322, 'PR': 18.220833, 'RI': 41.580095, 'SC': 33.836081, 'SD': 43.969515, 'TN': 35.517491, 'TX': 31.968598999999998, 'UT': 39.32098, 'VA': 37.431573, 'VT': 44.558803000000005, 'WA': 47.751073999999996, 'WI': 43.784440000000004, 'WV': 38.597626, 'WY': 43.075967999999996}\n",
      "{'AK': -154.493062, 'AL': -86.902298, 'AR': -91.83183299999999, 'AZ': -111.093731, 'CA': -119.41793200000001, 'CO': -105.782067, 'CT': -73.087749, 'DC': -77.03341800000001, 'DE': -75.52767, 'FL': -81.515754, 'GA': -82.907123, 'HI': -155.66585700000002, 'IA': -93.097702, 'ID': -114.74204099999999, 'IL': -89.398528, 'IN': -85.602364, 'KS': -98.484246, 'KY': -84.27001800000001, 'LA': -92.14502399999999, 'MA': -71.382437, 'MD': -76.641271, 'ME': -69.44546899999999, 'MI': -85.602364, 'MN': -94.6859, 'MO': -91.83183299999999, 'MS': -89.398528, 'MT': -110.36256599999999, 'NC': -79.0193, 'ND': -101.002012, 'NE': -99.901813, 'NH': -71.572395, 'NJ': -74.405661, 'NM': -105.03236299999999, 'NV': -116.419389, 'NY': -74.217933, 'OH': -82.907123, 'OK': -97.092877, 'OR': -120.554201, 'PA': -77.194525, 'PR': -66.590149, 'RI': -71.477429, 'SC': -81.163725, 'SD': -99.901813, 'TN': -86.58044699999999, 'TX': -99.901813, 'UT': -111.093731, 'VA': -78.656894, 'VT': -72.577841, 'WA': -120.74013899999999, 'WI': -88.787868, 'WV': -80.454903, 'WY': -107.29028400000001}\n",
      "-107.29028400000001\n"
     ]
    }
   ],
   "source": [
    "import pandas\n",
    "data = pandas.read_csv(\"state_geo.csv\")\n",
    "state= list(data[\"state\"])\n",
    "lat= list(data[\"lat\"])\n",
    "long= list(data[\"long\"])\n",
    "state_lat = dict(zip(state,lat))\n",
    "print(str(state_lat))\n",
    "state_long = dict(zip(state,long))\n",
    "print(str(state_long))\n",
    "print(state_long[\"WY\"])"
   ]
  },
  {
   "cell_type": "code",
   "execution_count": null,
   "metadata": {},
   "outputs": [],
   "source": [
    "import pandas\n",
    "data = pandas.read_csv(\"https://covidtracking.com/api/v1/states/daily.csv\")\n",
    "state= list(data[\"state\"])\n",
    "death= list(data[\"death\"])"
   ]
  }
 ],
 "metadata": {
  "kernelspec": {
   "display_name": "Python 3",
   "language": "python",
   "name": "python3"
  },
  "language_info": {
   "codemirror_mode": {
    "name": "ipython",
    "version": 3
   },
   "file_extension": ".py",
   "mimetype": "text/x-python",
   "name": "python",
   "nbconvert_exporter": "python",
   "pygments_lexer": "ipython3",
   "version": "3.7.2"
  }
 },
 "nbformat": 4,
 "nbformat_minor": 2
}
