{
 "cells": [
  {
   "cell_type": "code",
   "execution_count": 9,
   "metadata": {},
   "outputs": [
    {
     "name": "stdout",
     "output_type": "stream",
     "text": [
      "Say something: hi \n",
      "Say something: my name is Mo\n",
      "Say something: what is your name\n",
      "Say something: have a good day\n",
      "Say something: \\end\n",
      "Hi . My Name Is Mo. What Is Your Name? Have A Good Day.\n"
     ]
    }
   ],
   "source": [
    "def format_sentence(phrase):\n",
    "    questions = ('who','what','where','why','how','is','are')\n",
    "    if phrase.startswith(questions):\n",
    "        return phrase.title()+'?'\n",
    "    else:\n",
    "        return phrase.title()+'.'\n",
    "\n",
    "txtin = ''\n",
    "txtfmt = []\n",
    "while True:\n",
    "    txtin = input(\"Say something: \")\n",
    "    if txtin == '\\end':\n",
    "        break\n",
    "    txtfmt.append(format_sentence(txtin))\n",
    "        \n",
    "print(\" \".join(txtfmt))\n",
    "\n"
   ]
  },
  {
   "cell_type": "code",
   "execution_count": 2,
   "metadata": {},
   "outputs": [
    {
     "name": "stdout",
     "output_type": "stream",
     "text": [
      "['A', 'B', 'Z']\n"
     ]
    }
   ],
   "source": [
    "def foo(*args):\n",
    "    return sorted([i.upper() for  i in args])\n",
    "\n",
    "print(foo(\"z\",\"a\",\"b\"))"
   ]
  },
  {
   "cell_type": "code",
   "execution_count": 5,
   "metadata": {},
   "outputs": [
    {
     "name": "stdout",
     "output_type": "stream",
     "text": [
      "<class 'str'>\n",
      "pear\n",
      "apple\n",
      "orange\n",
      "mandarin\n",
      "watermelon\n",
      "pomegranate\n",
      "\n"
     ]
    }
   ],
   "source": [
    "with open(\"fruits.txt\") as file:\n",
    "    content = file.read()\n",
    "print(type(content))\n",
    "print(content)"
   ]
  },
  {
   "cell_type": "code",
   "execution_count": 5,
   "metadata": {},
   "outputs": [
    {
     "name": "stdout",
     "output_type": "stream",
     "text": [
      "1.3, 1.5\n",
      "2.3, 2.71.3, 1.5\n",
      "2.3, 2.71.3, 1.5\n",
      "2.3, 2.7\n",
      "1.3, 1.5\n",
      "2.3, 2.71.3, 1.5\n",
      "2.3, 2.71.3,\n"
     ]
    }
   ],
   "source": [
    "with open(\"bear.txt\") as fileb:\n",
    "    contents=fileb.read()\n",
    "print(contents[:90])"
   ]
  },
  {
   "cell_type": "code",
   "execution_count": 7,
   "metadata": {},
   "outputs": [],
   "source": [
    "with open(\"cat\",\"w\") as filec:\n",
    "    filec.write('Tabby\\npearl\\njosey\\n')"
   ]
  },
  {
   "cell_type": "code",
   "execution_count": 20,
   "metadata": {},
   "outputs": [
    {
     "name": "stdout",
     "output_type": "stream",
     "text": [
      "Tabby\n",
      "pearl\n",
      "josey\n",
      "\n",
      "1\n"
     ]
    }
   ],
   "source": [
    "def find_char(filename,charin):\n",
    "    with open(filename)as file:\n",
    "        contents=file.read()\n",
    "    print(contents)\n",
    "    return contents.count(charin)\n",
    "\n",
    "print(find_char(\"cats.txt\",\"T\"))"
   ]
  },
  {
   "cell_type": "code",
   "execution_count": null,
   "metadata": {},
   "outputs": [],
   "source": []
  },
  {
   "cell_type": "code",
   "execution_count": null,
   "metadata": {},
   "outputs": [],
   "source": []
  }
 ],
 "metadata": {
  "kernelspec": {
   "display_name": "Python 3",
   "language": "python",
   "name": "python3"
  },
  "language_info": {
   "codemirror_mode": {
    "name": "ipython",
    "version": 3
   },
   "file_extension": ".py",
   "mimetype": "text/x-python",
   "name": "python",
   "nbconvert_exporter": "python",
   "pygments_lexer": "ipython3",
   "version": "3.7.2"
  }
 },
 "nbformat": 4,
 "nbformat_minor": 2
}
